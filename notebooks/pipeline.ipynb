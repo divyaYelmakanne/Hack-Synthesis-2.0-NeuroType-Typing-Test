{
 "cells": [
  {
   "cell_type": "code",
   "execution_count": null,
   "id": "a11cfafe",
   "metadata": {},
   "outputs": [],
   "source": [
    "# ✅ Step 1: Setup & Imports\n",
    "import sys\n",
    "sys.path.append('../src')  # Import from src folder\n",
    "\n",
    "from data_preprocessing import load_and_preprocess_data\n",
    "from model_training import train_and_evaluate\n",
    "from model_explainability import load_model, explain_model\n",
    "\n",
    "import pandas as pd\n",
    "import matplotlib.pyplot as plt"
   ]
  },
  {
   "cell_type": "code",
   "execution_count": null,
   "id": "05ddb3e5",
   "metadata": {},
   "outputs": [],
   "source": [
    "# ✅ Step 2: Load and Preprocess Data\n",
    "file_path = '../data/processed/features_combined.csv'\n",
    "\n",
    "X_train, X_test, y_train, y_test, scaler, feature_names = load_and_preprocess_data(file_path)\n",
    "\n",
    "print(\"X_train shape:\", X_train.shape)\n",
    "print(\"y_train value counts:\\n\", y_train.value_counts())"
   ]
  },
  {
   "cell_type": "code",
   "execution_count": null,
   "id": "3be4f294",
   "metadata": {},
   "outputs": [],
   "source": [
    "# ✅ Step 3: Train Model and Save\n",
    "model_save_path = '../models/xgb_pd_model.pkl'\n",
    "\n",
    "train_and_evaluate(file_path, model_save_path)"
   ]
  },
  {
   "cell_type": "code",
   "execution_count": null,
   "id": "876067eb",
   "metadata": {},
   "outputs": [],
   "source": [
    "# ✅ Step 4: Load Trained Model\n",
    "model = load_model(model_save_path)"
   ]
  },
  {
   "cell_type": "code",
   "execution_count": null,
   "id": "11a64bca",
   "metadata": {},
   "outputs": [],
   "source": [
    "# ✅ Step 5: SHAP Global Explanation\n",
    "explain_model(model, X_train, feature_names, save_summary_path='../outputs/shap_summary.png')"
   ]
  },
  {
   "cell_type": "code",
   "execution_count": null,
   "id": "19e1df9f",
   "metadata": {},
   "outputs": [],
   "source": [
    "# ✅ Step 6: Manual Single Prediction\n",
    "manual_input = {\n",
    "    'nqScore': 3.0,\n",
    "    'Typing speed': 2.5,\n",
    "    'afTap': 1.5,\n",
    "    'sTap': 1.0\n",
    "}\n",
    "\n",
    "input_df = pd.DataFrame([manual_input])\n",
    "\n",
    "# Predict probability\n",
    "proba = model.predict_proba(input_df)[0][1]\n",
    "print(f\"\\nPredicted PD Probability: {proba*100:.2f}%\")\n",
    "\n",
    "# Predict class\n",
    "pred_class = model.predict(input_df)[0]\n",
    "print(\"Prediction:\", \"Likely PD\" if pred_class == 1 else \"No PD\")"
   ]
  },
  {
   "cell_type": "code",
   "execution_count": null,
   "id": "f7a9c5ed",
   "metadata": {},
   "outputs": [],
   "source": [
    "from sklearn.linear_model import LogisticRegression\n",
    "from sklearn.ensemble import RandomForestClassifier, GradientBoostingClassifier, VotingClassifier\n",
    "from sklearn.svm import SVC\n",
    "from sklearn.neighbors import KNeighborsClassifier\n",
    "from sklearn.metrics import accuracy_score, classification_report\n",
    "\n",
    "# Store models in a dictionary\n",
    "models = {\n",
    "    'Logistic Regression': LogisticRegression(class_weight='balanced', random_state=42, max_iter=1000),\n",
    "    'Random Forest': RandomForestClassifier(n_estimators=100, random_state=42),\n",
    "    'Gradient Boosting': GradientBoostingClassifier(n_estimators=100, learning_rate=0.1, random_state=42),\n",
    "    'SVM (Linear)': SVC(kernel='linear', probability=True, random_state=42),\n",
    "    'SVM (RBF)': SVC(kernel='rbf', probability=True, random_state=42),\n",
    "    'KNN': KNeighborsClassifier(n_neighbors=5)\n",
    "}\n",
    "\n",
    "# Loop through models and evaluate\n",
    "for name, model in models.items():\n",
    "    model.fit(X_train, y_train)\n",
    "    y_pred = model.predict(X_test)\n",
    "    acc = accuracy_score(y_test, y_pred)\n",
    "    print(f\"\\n🔍 {name} Accuracy: {acc:.2%}\")\n",
    "    print(classification_report(y_test, y_pred, target_names=['Healthy', 'PD']))\n"
   ]
  },
  {
   "cell_type": "code",
   "execution_count": null,
   "id": "c6a25688",
   "metadata": {},
   "outputs": [],
   "source": [
    "voting = VotingClassifier(\n",
    "    estimators=[\n",
    "        ('lr', models['Logistic Regression']),\n",
    "        ('rf', models['Random Forest']),\n",
    "        ('svm', models['SVM (RBF)'])\n",
    "    ],\n",
    "    voting='soft'\n",
    ")\n",
    "voting.fit(X_train, y_train)\n",
    "y_pred = voting.predict(X_test)\n",
    "print(\"Voting Classifier Accuracy:\", accuracy_score(y_test, y_pred))\n"
   ]
  }
 ],
 "metadata": {
  "language_info": {
   "name": "python"
  }
 },
 "nbformat": 4,
 "nbformat_minor": 5
}
